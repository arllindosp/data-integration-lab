{
 "cells": [
  {
   "cell_type": "code",
   "execution_count": 23,
   "id": "c3bb49f4",
   "metadata": {},
   "outputs": [],
   "source": [
    "import pandas as pd\n",
    "import numpy as np\n",
    "import os\n",
    "import zipfile\n",
    "import json\n",
    "from datetime import datetime\n",
    "import time\n",
    "import psycopg2\n",
    "import sqlalchemy\n",
    "from psycopg2 import sql\n",
    "from sqlalchemy import create_engine\n",
    "from sqlalchemy.types import Integer, Float, String, DateTime, Text\n",
    "import matplotlib.pyplot as plt\n",
    "import seaborn as sns\n",
    "from typing import Dict, List, Tuple, Any\n",
    "import warnings\n",
    "warnings.filterwarnings('ignore')\n",
    "\n",
    "start_time = time.time()"
   ]
  },
  {
   "cell_type": "code",
   "execution_count": 24,
   "id": "5f8d59e2",
   "metadata": {},
   "outputs": [
    {
     "name": "stdout",
     "output_type": "stream",
     "text": [
      "CARREGANDO DADOS ITBI - RECIFE\n",
      "==============================\n",
      "2023: OK - 12,670 registros\n",
      "2024: OK - 15,243 registros\n",
      "2025: OK - 10,020 registros\n",
      "\n",
      "RESUMO:\n",
      "  Total: 37,933 registros\n",
      "  Anos: ['2023', '2024', '2025']\n",
      "  Colunas: 24\n"
     ]
    }
   ],
   "source": [
    "dataset_sources = [\n",
    "    (\"2023\", \"http://dados.recife.pe.gov.br/dataset/28e3e25e-a9a7-4a9f-90a8-bb02d09cbc18/resource/a01e3b82-055b-4139-b495-e54ec5196f54/download/itbi_2023.csv\"),\n",
    "    (\"2024\", \"http://dados.recife.pe.gov.br/dataset/28e3e25e-a9a7-4a9f-90a8-bb02d09cbc18/resource/c3feb7bb-4a76-4ddf-becb-ea77f66c23d0/download/itbi_2024.csv\"),\n",
    "    (\"2025\", \"http://dados.recife.pe.gov.br/dataset/28e3e25e-a9a7-4a9f-90a8-bb02d09cbc18/resource/97bbfc62-efb2-493f-9631-09eb05f980d7/download/itbi_2025.csv\")\n",
    "]\n",
    "\n",
    "datasets_dict = {}\n",
    "total_records = 0\n",
    "\n",
    "print(\"CARREGANDO DADOS ITBI - RECIFE\")\n",
    "print(\"=\" * 30)\n",
    "\n",
    "for year, url in dataset_sources:\n",
    "    try:\n",
    "        print(f\"{year}: \", end=\"\")\n",
    "        df = pd.read_csv(url, sep=';', encoding='utf-8')\n",
    "        df['year'] = int(year)\n",
    "        datasets_dict[year] = df\n",
    "        total_records += len(df)\n",
    "        print(f\"OK - {len(df):,} registros\")\n",
    "    except Exception as e:\n",
    "        print(f\"Erro: {e}\")\n",
    "\n",
    "print(f\"\\nRESUMO:\")\n",
    "print(f\"  Total: {total_records:,} registros\")\n",
    "print(f\"  Anos: {list(datasets_dict.keys())}\")\n",
    "print(f\"  Colunas: {len(datasets_dict[\"2023\"].columns)}\")\n"
   ]
  },
  {
   "cell_type": "code",
   "execution_count": 25,
   "id": "254a2a75",
   "metadata": {},
   "outputs": [
    {
     "name": "stdout",
     "output_type": "stream",
     "text": [
      "\n",
      "AMOSTRA DOS DADOS:\n"
     ]
    },
    {
     "data": {
      "text/html": [
       "<div>\n",
       "<style scoped>\n",
       "    .dataframe tbody tr th:only-of-type {\n",
       "        vertical-align: middle;\n",
       "    }\n",
       "\n",
       "    .dataframe tbody tr th {\n",
       "        vertical-align: top;\n",
       "    }\n",
       "\n",
       "    .dataframe thead th {\n",
       "        text-align: right;\n",
       "    }\n",
       "</style>\n",
       "<table border=\"1\" class=\"dataframe\">\n",
       "  <thead>\n",
       "    <tr style=\"text-align: right;\">\n",
       "      <th></th>\n",
       "      <th>bairro</th>\n",
       "      <th>tipo_imovel</th>\n",
       "      <th>valor_avaliacao</th>\n",
       "    </tr>\n",
       "  </thead>\n",
       "  <tbody>\n",
       "    <tr>\n",
       "      <th>0</th>\n",
       "      <td>Encruzilhada</td>\n",
       "      <td>Galpão</td>\n",
       "      <td>1068562.63</td>\n",
       "    </tr>\n",
       "    <tr>\n",
       "      <th>1</th>\n",
       "      <td>Encruzilhada</td>\n",
       "      <td>Casa</td>\n",
       "      <td>1500000.00</td>\n",
       "    </tr>\n",
       "    <tr>\n",
       "      <th>2</th>\n",
       "      <td>Encruzilhada</td>\n",
       "      <td>Apartamento</td>\n",
       "      <td>110000.00</td>\n",
       "    </tr>\n",
       "  </tbody>\n",
       "</table>\n",
       "</div>"
      ],
      "text/plain": [
       "         bairro  tipo_imovel  valor_avaliacao\n",
       "0  Encruzilhada       Galpão       1068562.63\n",
       "1  Encruzilhada         Casa       1500000.00\n",
       "2  Encruzilhada  Apartamento        110000.00"
      ]
     },
     "execution_count": 25,
     "metadata": {},
     "output_type": "execute_result"
    }
   ],
   "source": [
    "#Preview dos dados\n",
    "print(f\"\\nAMOSTRA DOS DADOS:\")\n",
    "datasets_dict['2023'][['bairro', 'tipo_imovel', 'valor_avaliacao']].head(3)"
   ]
  },
  {
   "cell_type": "code",
   "execution_count": 26,
   "id": "a79d419b",
   "metadata": {},
   "outputs": [
    {
     "name": "stdout",
     "output_type": "stream",
     "text": [
      "CONECTANDO AO POSTGRESQL\n",
      "========================\n",
      "  Host: localhost\n",
      "  Porta: 5432\n",
      "  Banco: elt_pipeline\n",
      "  Usuário: postgres\n",
      "\n",
      "CONEXÃO ESTABELECIDA!\n",
      "  Versão: PostgreSQL 16.9\n",
      "  Tabelas existentes: 4\n",
      "  Engine SQLAlchemy: Pronto\n",
      "\n",
      "Banco PostgreSQL pronto para receber dados ITBI!\n"
     ]
    }
   ],
   "source": [
    "#CONEXÃO COM POSTGRESQL\n",
    "#======================\n",
    "#Carregar configuração do banco de dados\n",
    "with open('config.json', 'r') as config_file:\n",
    "    db_config = json.load(config_file)\n",
    "\n",
    "print(\"CONECTANDO AO POSTGRESQL\")\n",
    "print(\"=\" * 24)\n",
    "print(f\"  Host: {db_config['host']}\")\n",
    "print(f\"  Porta: {db_config['port']}\")\n",
    "print(f\"  Banco: {db_config['database']}\")\n",
    "print(f\"  Usuário: {db_config['user']}\")\n",
    "\n",
    "try:\n",
    "    # Testar conexão com psycopg2\n",
    "    conn = psycopg2.connect(\n",
    "        host=db_config['host'],\n",
    "        port=db_config['port'],\n",
    "        database=db_config['database'],\n",
    "        user=db_config['user'],\n",
    "        password=db_config['password']\n",
    "    )\n",
    "\n",
    "#Criar engine SQLAlchemy para pandas\n",
    "    engine = create_engine(\n",
    "        f\"postgresql+psycopg2://{db_config['user']}:{db_config['password']}@{db_config['host']}:{db_config['port']}/{db_config['database']}\"\n",
    "    )\n",
    "\n",
    "#Verificar detalhes do banco\n",
    "    cursor = conn.cursor()\n",
    "\n",
    "#Versão do PostgreSQL\n",
    "    cursor.execute(\"SELECT version();\")\n",
    "    version = cursor.fetchone()[0]\n",
    "\n",
    "#Verificar se existem tabelas\n",
    "    cursor.execute(\"SELECT count(*) FROM information_schema.tables WHERE table_schema = 'public';\")\n",
    "    table_count = cursor.fetchone()[0]\n",
    "\n",
    "    print(f\"\\nCONEXÃO ESTABELECIDA!\")\n",
    "    print(f\"  Versão: {version.split()[0]} {version.split()[1]}\")\n",
    "    print(f\"  Tabelas existentes: {table_count}\")\n",
    "    print(f\"  Engine SQLAlchemy: Pronto\")\n",
    "\n",
    "#Fechar cursor mas manter conexões para uso posterior\n",
    "    cursor.close()\n",
    "\n",
    "    print(f\"\\nBanco PostgreSQL pronto para receber dados ITBI!\")\n",
    "\n",
    "except Exception as e:\n",
    "    print(f\"\\nERRO NA CONEXÃO: {e}\")\n",
    "    print(f\"\\nVERIFICAÇÕES:\")\n",
    "    print(f\"  - PostgreSQL está rodando?\")\n",
    "    print(f\"  - Banco '{db_config['database']}' existe?\")\n",
    "    print(f\"  - Credenciais corretas no config.json?\")\n",
    "    print(f\"  - Porta {db_config['port']} disponível?\")\n"
   ]
  },
  {
   "cell_type": "code",
   "execution_count": 29,
   "id": "eb14eef5",
   "metadata": {},
   "outputs": [
    {
     "name": "stdout",
     "output_type": "stream",
     "text": [
      "Inserindo dados ITBI...\n",
      "OK - itbi_2023: 12,670 registros\n",
      "OK - itbi_2024: 15,243 registros\n",
      "OK - itbi_2025: 10,020 registros\n",
      "OK - itbi_consolidado: 37,933 registros\n",
      "Concluído!\n"
     ]
    }
   ],
   "source": [
    "#INSERÇÃO NO POSTGRESQL\n",
    "#======================\n",
    "print(\"Inserindo dados ITBI...\")\n",
    "\n",
    "try:\n",
    "    # Inserir cada ano\n",
    "    for year, df in datasets_dict.items():\n",
    "        df.to_sql(f\"itbi_{year}\", engine, if_exists='replace', index=False, method='multi')\n",
    "        print(f\"OK - itbi_{year}: {len(df):,} registros\")\n",
    "\n",
    "    #Tabela consolidada\n",
    "    with engine.connect() as conn:\n",
    "        conn.execute(sqlalchemy.text(\"\"\"\n",
    "            CREATE SCHEMA IF NOT EXISTS raw_itbi;\n",
    "            DROP TABLE IF EXISTS raw_itbi.itbi_consolidado;\n",
    "            CREATE TABLE raw_itbi.itbi_consolidado AS\n",
    "            SELECT *, '2023' as fonte FROM itbi_2023\n",
    "            UNION ALL \n",
    "            SELECT *, '2024' as fonte FROM itbi_2024\n",
    "            UNION ALL \n",
    "            SELECT *, '2025' as fonte FROM itbi_2025;\n",
    "        \"\"\"))\n",
    "        conn.commit()\n",
    "\n",
    "    total = pd.read_sql(\"SELECT COUNT(*) as total FROM raw_itbi.itbi_consolidado\", engine).iloc[0]['total']\n",
    "    print(f\"OK - itbi_consolidado: {total:,} registros\")\n",
    "    print(\"Concluído!\")\n",
    "\n",
    "except Exception as e:\n",
    "    print(f\"Erro: {e}\")"
   ]
  }
 ],
 "metadata": {
  "kernelspec": {
   "display_name": ".venv",
   "language": "python",
   "name": "python3"
  },
  "language_info": {
   "codemirror_mode": {
    "name": "ipython",
    "version": 3
   },
   "file_extension": ".py",
   "mimetype": "text/x-python",
   "name": "python",
   "nbconvert_exporter": "python",
   "pygments_lexer": "ipython3",
   "version": "3.12.3"
  }
 },
 "nbformat": 4,
 "nbformat_minor": 5
}
